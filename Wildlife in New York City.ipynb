{
 "cells": [
  {
   "cell_type": "markdown",
   "metadata": {},
   "source": [
    "# Brown Scholars Internship 2019-2020 - Urban Wildlife in NYC"
   ]
  },
  {
   "cell_type": "markdown",
   "metadata": {},
   "source": [
    "New York City is home to many diverse species of wildlife that arrived or existed long before humans settled here.\n",
    "In October 2016, Mayor Bill de Blasio launched WildlifeNYC, a citywide education and awareness campaign teaching New Yorkers how to live safely and responsibly alongside wild animals including deer, raccoons, and coyotes.\n",
    "\n",
    "Urban wildlife is any wild animal that lives in an urban environment, such as New York City. Urban wildlife includes birds, mammals, reptiles, fish and amphibians. Some urban wildlife is native, like eastern grey squirrels, while some are non-native, like mute swans. Domesticated and companion animals, like dogs, exotic pets, and farm animals are not considered urban wildlife. Domesticated but feral animals like pigeons and stray cats are also not considered urban wildlife.\n",
    "\n",
    "https://www1.nyc.gov/site/wildlifenyc/index.page\n",
    "https://www.nycgovparks.org/programs/wildlife-management/calendar\n",
    "https://data.cityofnewyork.us/Environment/Urban-Park-Ranger-Animal-Condition-Response/fuhs-xmg2"
   ]
  },
  {
   "cell_type": "markdown",
   "metadata": {},
   "source": [
    "First we'll start by importing some packages we'll use"
   ]
  },
  {
   "cell_type": "code",
   "execution_count": 1,
   "metadata": {},
   "outputs": [],
   "source": [
    "import pandas as pd"
   ]
  },
  {
   "cell_type": "markdown",
   "metadata": {},
   "source": [
    "and then import the data. Your csv file should be in the same directory as the notebook."
   ]
  },
  {
   "cell_type": "code",
   "execution_count": 2,
   "metadata": {},
   "outputs": [],
   "source": [
    "data = pd.read_csv('Urban_Park_Ranger_Animal_Condition_Response.csv')"
   ]
  },
  {
   "cell_type": "markdown",
   "metadata": {},
   "source": [
    "Now that the data is loaded, let's check it out. Did the data load? (Hint: use data.head())"
   ]
  },
  {
   "cell_type": "code",
   "execution_count": 3,
   "metadata": {},
   "outputs": [
    {
     "data": {
      "text/html": [
       "<div>\n",
       "<style scoped>\n",
       "    .dataframe tbody tr th:only-of-type {\n",
       "        vertical-align: middle;\n",
       "    }\n",
       "\n",
       "    .dataframe tbody tr th {\n",
       "        vertical-align: top;\n",
       "    }\n",
       "\n",
       "    .dataframe thead th {\n",
       "        text-align: right;\n",
       "    }\n",
       "</style>\n",
       "<table border=\"1\" class=\"dataframe\">\n",
       "  <thead>\n",
       "    <tr style=\"text-align: right;\">\n",
       "      <th></th>\n",
       "      <th>Date and Time of initial call</th>\n",
       "      <th>Date and time of Ranger response</th>\n",
       "      <th>Borough</th>\n",
       "      <th>Property</th>\n",
       "      <th>Location</th>\n",
       "      <th>Species Description</th>\n",
       "      <th>Call Source</th>\n",
       "      <th>Species Status</th>\n",
       "      <th>Animal Condition</th>\n",
       "      <th>Duration of Response</th>\n",
       "      <th>...</th>\n",
       "      <th>311SR Number</th>\n",
       "      <th>Final Ranger Action</th>\n",
       "      <th># of Animals</th>\n",
       "      <th>PEP Response</th>\n",
       "      <th>Animal Monitored</th>\n",
       "      <th>Rehabilitator</th>\n",
       "      <th>Hours spent monitoring</th>\n",
       "      <th>Police Response</th>\n",
       "      <th>ESU Response</th>\n",
       "      <th>ACC Intake Number</th>\n",
       "    </tr>\n",
       "  </thead>\n",
       "  <tbody>\n",
       "    <tr>\n",
       "      <th>0</th>\n",
       "      <td>06/12/2019 09:20:00 AM</td>\n",
       "      <td>06/12/2019 09:20:00 AM</td>\n",
       "      <td>Manhattan</td>\n",
       "      <td>Washingtom Square Park</td>\n",
       "      <td>on Sidewalk accross from the park near 10 Wash...</td>\n",
       "      <td>Red-tailed Hawk</td>\n",
       "      <td>Other</td>\n",
       "      <td>Native</td>\n",
       "      <td>NaN</td>\n",
       "      <td>0.5</td>\n",
       "      <td>...</td>\n",
       "      <td>NaN</td>\n",
       "      <td>Advised/Educated others</td>\n",
       "      <td>1.0</td>\n",
       "      <td>False</td>\n",
       "      <td>False</td>\n",
       "      <td>NaN</td>\n",
       "      <td>NaN</td>\n",
       "      <td>False</td>\n",
       "      <td>False</td>\n",
       "      <td>NaN</td>\n",
       "    </tr>\n",
       "    <tr>\n",
       "      <th>1</th>\n",
       "      <td>06/11/2019 04:15:00 PM</td>\n",
       "      <td>06/11/2019 04:20:00 PM</td>\n",
       "      <td>Bronx</td>\n",
       "      <td>Van Cortlandt Park</td>\n",
       "      <td>Adjacent to VC Golf House</td>\n",
       "      <td>Canada Goose</td>\n",
       "      <td>Public</td>\n",
       "      <td>Native</td>\n",
       "      <td>Injured</td>\n",
       "      <td>0.5</td>\n",
       "      <td>...</td>\n",
       "      <td>1-1-1733837211</td>\n",
       "      <td>Unfounded</td>\n",
       "      <td>1.0</td>\n",
       "      <td>False</td>\n",
       "      <td>False</td>\n",
       "      <td>NaN</td>\n",
       "      <td>NaN</td>\n",
       "      <td>False</td>\n",
       "      <td>False</td>\n",
       "      <td>NaN</td>\n",
       "    </tr>\n",
       "    <tr>\n",
       "      <th>2</th>\n",
       "      <td>06/10/2019 01:00:00 PM</td>\n",
       "      <td>06/10/2019 01:30:00 PM</td>\n",
       "      <td>Brooklyn</td>\n",
       "      <td>Irving Square Park</td>\n",
       "      <td>Northwest corner of the park</td>\n",
       "      <td>Parrot</td>\n",
       "      <td>Public</td>\n",
       "      <td>Exotic</td>\n",
       "      <td>NaN</td>\n",
       "      <td>1.5</td>\n",
       "      <td>...</td>\n",
       "      <td>NaN</td>\n",
       "      <td>Unfounded</td>\n",
       "      <td>1.0</td>\n",
       "      <td>False</td>\n",
       "      <td>False</td>\n",
       "      <td>NaN</td>\n",
       "      <td>NaN</td>\n",
       "      <td>False</td>\n",
       "      <td>False</td>\n",
       "      <td>NaN</td>\n",
       "    </tr>\n",
       "    <tr>\n",
       "      <th>3</th>\n",
       "      <td>06/09/2019 09:30:00 AM</td>\n",
       "      <td>06/09/2019 10:00:00 AM</td>\n",
       "      <td>Brooklyn</td>\n",
       "      <td>Parade Ground</td>\n",
       "      <td>Prospect Park Parade Grounds near Tennis Center</td>\n",
       "      <td>Chicken</td>\n",
       "      <td>Central</td>\n",
       "      <td>Domestic</td>\n",
       "      <td>Healthy</td>\n",
       "      <td>3.0</td>\n",
       "      <td>...</td>\n",
       "      <td>1-1-1730643971</td>\n",
       "      <td>ACC</td>\n",
       "      <td>1.0</td>\n",
       "      <td>False</td>\n",
       "      <td>False</td>\n",
       "      <td>NaN</td>\n",
       "      <td>NaN</td>\n",
       "      <td>False</td>\n",
       "      <td>False</td>\n",
       "      <td>65352</td>\n",
       "    </tr>\n",
       "    <tr>\n",
       "      <th>4</th>\n",
       "      <td>06/09/2019 12:50:00 PM</td>\n",
       "      <td>06/09/2019 12:55:00 PM</td>\n",
       "      <td>Staten Island</td>\n",
       "      <td>Silver Lake Park</td>\n",
       "      <td>Bridge</td>\n",
       "      <td>Red-Eared Slider</td>\n",
       "      <td>Employee</td>\n",
       "      <td>Invasive</td>\n",
       "      <td>Injured</td>\n",
       "      <td>2.0</td>\n",
       "      <td>...</td>\n",
       "      <td>1-1-1724490913</td>\n",
       "      <td>ACC</td>\n",
       "      <td>2.0</td>\n",
       "      <td>True</td>\n",
       "      <td>False</td>\n",
       "      <td>NaN</td>\n",
       "      <td>NaN</td>\n",
       "      <td>False</td>\n",
       "      <td>False</td>\n",
       "      <td>65379 65380</td>\n",
       "    </tr>\n",
       "  </tbody>\n",
       "</table>\n",
       "<p>5 rows × 22 columns</p>\n",
       "</div>"
      ],
      "text/plain": [
       "  Date and Time of initial call Date and time of Ranger response  \\\n",
       "0        06/12/2019 09:20:00 AM           06/12/2019 09:20:00 AM   \n",
       "1        06/11/2019 04:15:00 PM           06/11/2019 04:20:00 PM   \n",
       "2        06/10/2019 01:00:00 PM           06/10/2019 01:30:00 PM   \n",
       "3        06/09/2019 09:30:00 AM           06/09/2019 10:00:00 AM   \n",
       "4        06/09/2019 12:50:00 PM           06/09/2019 12:55:00 PM   \n",
       "\n",
       "         Borough                Property  \\\n",
       "0      Manhattan  Washingtom Square Park   \n",
       "1          Bronx      Van Cortlandt Park   \n",
       "2       Brooklyn      Irving Square Park   \n",
       "3       Brooklyn           Parade Ground   \n",
       "4  Staten Island        Silver Lake Park   \n",
       "\n",
       "                                            Location Species Description  \\\n",
       "0  on Sidewalk accross from the park near 10 Wash...     Red-tailed Hawk   \n",
       "1                          Adjacent to VC Golf House        Canada Goose   \n",
       "2                       Northwest corner of the park              Parrot   \n",
       "3    Prospect Park Parade Grounds near Tennis Center             Chicken   \n",
       "4                                             Bridge    Red-Eared Slider   \n",
       "\n",
       "  Call Source Species Status Animal Condition  Duration of Response  ...  \\\n",
       "0       Other         Native              NaN                   0.5  ...   \n",
       "1      Public         Native          Injured                   0.5  ...   \n",
       "2      Public         Exotic              NaN                   1.5  ...   \n",
       "3     Central       Domestic          Healthy                   3.0  ...   \n",
       "4    Employee       Invasive          Injured                   2.0  ...   \n",
       "\n",
       "     311SR Number      Final Ranger Action # of Animals PEP Response  \\\n",
       "0             NaN  Advised/Educated others          1.0        False   \n",
       "1  1-1-1733837211                Unfounded          1.0        False   \n",
       "2             NaN                Unfounded          1.0        False   \n",
       "3  1-1-1730643971                      ACC          1.0        False   \n",
       "4  1-1-1724490913                      ACC          2.0         True   \n",
       "\n",
       "   Animal Monitored Rehabilitator Hours spent monitoring Police Response  \\\n",
       "0             False           NaN                    NaN           False   \n",
       "1             False           NaN                    NaN           False   \n",
       "2             False           NaN                    NaN           False   \n",
       "3             False           NaN                    NaN           False   \n",
       "4             False           NaN                    NaN           False   \n",
       "\n",
       "   ESU Response ACC Intake Number  \n",
       "0         False               NaN  \n",
       "1         False               NaN  \n",
       "2         False               NaN  \n",
       "3         False             65352  \n",
       "4         False       65379 65380  \n",
       "\n",
       "[5 rows x 22 columns]"
      ]
     },
     "execution_count": 3,
     "metadata": {},
     "output_type": "execute_result"
    }
   ],
   "source": [
    "data.head()"
   ]
  },
  {
   "cell_type": "markdown",
   "metadata": {},
   "source": [
    "How many rows and columns? (Hint: use data.shape)"
   ]
  },
  {
   "cell_type": "code",
   "execution_count": 4,
   "metadata": {},
   "outputs": [
    {
     "data": {
      "text/plain": [
       "(982, 22)"
      ]
     },
     "execution_count": 4,
     "metadata": {},
     "output_type": "execute_result"
    }
   ],
   "source": [
    "data.shape"
   ]
  },
  {
   "cell_type": "markdown",
   "metadata": {},
   "source": [
    "What information is available? (Hint: use data.info())"
   ]
  },
  {
   "cell_type": "code",
   "execution_count": 5,
   "metadata": {},
   "outputs": [
    {
     "name": "stdout",
     "output_type": "stream",
     "text": [
      "<class 'pandas.core.frame.DataFrame'>\n",
      "RangeIndex: 982 entries, 0 to 981\n",
      "Data columns (total 22 columns):\n",
      "Date and Time of initial call       982 non-null object\n",
      "Date and time of Ranger response    982 non-null object\n",
      "Borough                             982 non-null object\n",
      "Property                            982 non-null object\n",
      "Location                            918 non-null object\n",
      "Species Description                 969 non-null object\n",
      "Call Source                         982 non-null object\n",
      "Species Status                      968 non-null object\n",
      "Animal Condition                    758 non-null object\n",
      "Duration of Response                982 non-null float64\n",
      "Age                                 982 non-null object\n",
      "Animal Class                        982 non-null object\n",
      "311SR Number                        573 non-null object\n",
      "Final Ranger Action                 982 non-null object\n",
      "# of Animals                        974 non-null float64\n",
      "PEP Response                        980 non-null object\n",
      "Animal Monitored                    980 non-null object\n",
      "Rehabilitator                       53 non-null object\n",
      "Hours spent monitoring              120 non-null float64\n",
      "Police Response                     980 non-null object\n",
      "ESU Response                        982 non-null bool\n",
      "ACC Intake Number                   402 non-null object\n",
      "dtypes: bool(1), float64(3), object(18)\n",
      "memory usage: 162.1+ KB\n"
     ]
    }
   ],
   "source": [
    "data.info()"
   ]
  },
  {
   "cell_type": "markdown",
   "metadata": {},
   "source": [
    "How many unique entries per column? (Hint: use data.nunique())"
   ]
  },
  {
   "cell_type": "code",
   "execution_count": 6,
   "metadata": {},
   "outputs": [
    {
     "data": {
      "text/plain": [
       "Date and Time of initial call       903\n",
       "Date and time of Ranger response    943\n",
       "Borough                               5\n",
       "Property                            194\n",
       "Location                            867\n",
       "Species Description                 145\n",
       "Call Source                           6\n",
       "Species Status                        4\n",
       "Animal Condition                      4\n",
       "Duration of Response                 29\n",
       "Age                                   7\n",
       "Animal Class                         18\n",
       "311SR Number                        533\n",
       "Final Ranger Action                   7\n",
       "# of Animals                         10\n",
       "PEP Response                          2\n",
       "Animal Monitored                      2\n",
       "Rehabilitator                        10\n",
       "Hours spent monitoring               14\n",
       "Police Response                       2\n",
       "ESU Response                          2\n",
       "ACC Intake Number                   399\n",
       "dtype: int64"
      ]
     },
     "execution_count": 6,
     "metadata": {},
     "output_type": "execute_result"
    }
   ],
   "source": [
    "data.nunique()"
   ]
  },
  {
   "cell_type": "markdown",
   "metadata": {},
   "source": [
    "Choose a borough and find the answers to the previous questions."
   ]
  },
  {
   "cell_type": "code",
   "execution_count": null,
   "metadata": {},
   "outputs": [],
   "source": []
  },
  {
   "cell_type": "markdown",
   "metadata": {},
   "source": [
    "First, make a dataframe that contains only the data you want. (Hint: use data[data.borough == \"the borough you selected\"), and don't forget to assign it to a new variable)"
   ]
  },
  {
   "cell_type": "code",
   "execution_count": 8,
   "metadata": {},
   "outputs": [],
   "source": [
    "staten_island = data[data.Borough == \"Staten Island\"]"
   ]
  },
  {
   "cell_type": "code",
   "execution_count": 10,
   "metadata": {},
   "outputs": [
    {
     "data": {
      "text/html": [
       "<div>\n",
       "<style scoped>\n",
       "    .dataframe tbody tr th:only-of-type {\n",
       "        vertical-align: middle;\n",
       "    }\n",
       "\n",
       "    .dataframe tbody tr th {\n",
       "        vertical-align: top;\n",
       "    }\n",
       "\n",
       "    .dataframe thead th {\n",
       "        text-align: right;\n",
       "    }\n",
       "</style>\n",
       "<table border=\"1\" class=\"dataframe\">\n",
       "  <thead>\n",
       "    <tr style=\"text-align: right;\">\n",
       "      <th></th>\n",
       "      <th>Date and Time of initial call</th>\n",
       "      <th>Date and time of Ranger response</th>\n",
       "      <th>Borough</th>\n",
       "      <th>Property</th>\n",
       "      <th>Location</th>\n",
       "      <th>Species Description</th>\n",
       "      <th>Call Source</th>\n",
       "      <th>Species Status</th>\n",
       "      <th>Animal Condition</th>\n",
       "      <th>Duration of Response</th>\n",
       "      <th>...</th>\n",
       "      <th>311SR Number</th>\n",
       "      <th>Final Ranger Action</th>\n",
       "      <th># of Animals</th>\n",
       "      <th>PEP Response</th>\n",
       "      <th>Animal Monitored</th>\n",
       "      <th>Rehabilitator</th>\n",
       "      <th>Hours spent monitoring</th>\n",
       "      <th>Police Response</th>\n",
       "      <th>ESU Response</th>\n",
       "      <th>ACC Intake Number</th>\n",
       "    </tr>\n",
       "  </thead>\n",
       "  <tbody>\n",
       "    <tr>\n",
       "      <th>4</th>\n",
       "      <td>06/09/2019 12:50:00 PM</td>\n",
       "      <td>06/09/2019 12:55:00 PM</td>\n",
       "      <td>Staten Island</td>\n",
       "      <td>Silver Lake Park</td>\n",
       "      <td>Bridge</td>\n",
       "      <td>Red-Eared Slider</td>\n",
       "      <td>Employee</td>\n",
       "      <td>Invasive</td>\n",
       "      <td>Injured</td>\n",
       "      <td>2.00</td>\n",
       "      <td>...</td>\n",
       "      <td>1-1-1724490913</td>\n",
       "      <td>ACC</td>\n",
       "      <td>2.0</td>\n",
       "      <td>True</td>\n",
       "      <td>False</td>\n",
       "      <td>NaN</td>\n",
       "      <td>NaN</td>\n",
       "      <td>False</td>\n",
       "      <td>False</td>\n",
       "      <td>65379 65380</td>\n",
       "    </tr>\n",
       "    <tr>\n",
       "      <th>16</th>\n",
       "      <td>06/02/2019 05:15:00 PM</td>\n",
       "      <td>06/05/2019 09:20:00 AM</td>\n",
       "      <td>Staten Island</td>\n",
       "      <td>LaTourette Park &amp; Golf Course</td>\n",
       "      <td>Perimeter of park</td>\n",
       "      <td>Snapping turtle</td>\n",
       "      <td>Other</td>\n",
       "      <td>Native</td>\n",
       "      <td>NaN</td>\n",
       "      <td>0.25</td>\n",
       "      <td>...</td>\n",
       "      <td>NaN</td>\n",
       "      <td>Unfounded</td>\n",
       "      <td>1.0</td>\n",
       "      <td>False</td>\n",
       "      <td>False</td>\n",
       "      <td>NaN</td>\n",
       "      <td>NaN</td>\n",
       "      <td>False</td>\n",
       "      <td>False</td>\n",
       "      <td>NaN</td>\n",
       "    </tr>\n",
       "    <tr>\n",
       "      <th>25</th>\n",
       "      <td>05/27/2019 10:00:00 AM</td>\n",
       "      <td>05/27/2019 10:00:00 AM</td>\n",
       "      <td>Staten Island</td>\n",
       "      <td>Blue Heron Park</td>\n",
       "      <td>Blue Heron Nature Center</td>\n",
       "      <td>Snapping Turtle</td>\n",
       "      <td>Public</td>\n",
       "      <td>Native</td>\n",
       "      <td>Healthy</td>\n",
       "      <td>0.75</td>\n",
       "      <td>...</td>\n",
       "      <td>NaN</td>\n",
       "      <td>Relocated/Condition Corrected</td>\n",
       "      <td>1.0</td>\n",
       "      <td>False</td>\n",
       "      <td>False</td>\n",
       "      <td>NaN</td>\n",
       "      <td>NaN</td>\n",
       "      <td>False</td>\n",
       "      <td>False</td>\n",
       "      <td>NaN</td>\n",
       "    </tr>\n",
       "    <tr>\n",
       "      <th>36</th>\n",
       "      <td>05/20/2019 11:40:00 AM</td>\n",
       "      <td>05/20/2019 12:17:00 PM</td>\n",
       "      <td>Staten Island</td>\n",
       "      <td>Allison Pond Park</td>\n",
       "      <td>Pond</td>\n",
       "      <td>Snapping turtle</td>\n",
       "      <td>Central</td>\n",
       "      <td>Native</td>\n",
       "      <td>Healthy</td>\n",
       "      <td>0.50</td>\n",
       "      <td>...</td>\n",
       "      <td>NaN</td>\n",
       "      <td>Advised/Educated others</td>\n",
       "      <td>1.0</td>\n",
       "      <td>False</td>\n",
       "      <td>False</td>\n",
       "      <td>NaN</td>\n",
       "      <td>NaN</td>\n",
       "      <td>False</td>\n",
       "      <td>False</td>\n",
       "      <td>NaN</td>\n",
       "    </tr>\n",
       "    <tr>\n",
       "      <th>37</th>\n",
       "      <td>05/20/2019 11:00:00 AM</td>\n",
       "      <td>05/20/2019 11:45:00 AM</td>\n",
       "      <td>Staten Island</td>\n",
       "      <td>Willowbrook Park</td>\n",
       "      <td>Next to comfort station</td>\n",
       "      <td>Domestic Duck</td>\n",
       "      <td>Employee</td>\n",
       "      <td>Domestic</td>\n",
       "      <td>Healthy</td>\n",
       "      <td>2.00</td>\n",
       "      <td>...</td>\n",
       "      <td>NaN</td>\n",
       "      <td>ACC</td>\n",
       "      <td>5.0</td>\n",
       "      <td>False</td>\n",
       "      <td>False</td>\n",
       "      <td>NaN</td>\n",
       "      <td>NaN</td>\n",
       "      <td>False</td>\n",
       "      <td>False</td>\n",
       "      <td>1-1-1721095361</td>\n",
       "    </tr>\n",
       "  </tbody>\n",
       "</table>\n",
       "<p>5 rows × 22 columns</p>\n",
       "</div>"
      ],
      "text/plain": [
       "   Date and Time of initial call Date and time of Ranger response  \\\n",
       "4         06/09/2019 12:50:00 PM           06/09/2019 12:55:00 PM   \n",
       "16        06/02/2019 05:15:00 PM           06/05/2019 09:20:00 AM   \n",
       "25        05/27/2019 10:00:00 AM           05/27/2019 10:00:00 AM   \n",
       "36        05/20/2019 11:40:00 AM           05/20/2019 12:17:00 PM   \n",
       "37        05/20/2019 11:00:00 AM           05/20/2019 11:45:00 AM   \n",
       "\n",
       "          Borough                       Property                  Location  \\\n",
       "4   Staten Island               Silver Lake Park                    Bridge   \n",
       "16  Staten Island  LaTourette Park & Golf Course         Perimeter of park   \n",
       "25  Staten Island                Blue Heron Park  Blue Heron Nature Center   \n",
       "36  Staten Island              Allison Pond Park                      Pond   \n",
       "37  Staten Island               Willowbrook Park   Next to comfort station   \n",
       "\n",
       "   Species Description Call Source Species Status Animal Condition  \\\n",
       "4     Red-Eared Slider    Employee       Invasive          Injured   \n",
       "16     Snapping turtle       Other         Native              NaN   \n",
       "25     Snapping Turtle      Public         Native          Healthy   \n",
       "36     Snapping turtle     Central         Native          Healthy   \n",
       "37       Domestic Duck    Employee       Domestic          Healthy   \n",
       "\n",
       "    Duration of Response  ...    311SR Number            Final Ranger Action  \\\n",
       "4                   2.00  ...  1-1-1724490913                            ACC   \n",
       "16                  0.25  ...             NaN                      Unfounded   \n",
       "25                  0.75  ...             NaN  Relocated/Condition Corrected   \n",
       "36                  0.50  ...             NaN        Advised/Educated others   \n",
       "37                  2.00  ...             NaN                            ACC   \n",
       "\n",
       "   # of Animals PEP Response  Animal Monitored Rehabilitator  \\\n",
       "4           2.0         True             False           NaN   \n",
       "16          1.0        False             False           NaN   \n",
       "25          1.0        False             False           NaN   \n",
       "36          1.0        False             False           NaN   \n",
       "37          5.0        False             False           NaN   \n",
       "\n",
       "   Hours spent monitoring Police Response  ESU Response ACC Intake Number  \n",
       "4                     NaN           False         False       65379 65380  \n",
       "16                    NaN           False         False               NaN  \n",
       "25                    NaN           False         False               NaN  \n",
       "36                    NaN           False         False               NaN  \n",
       "37                    NaN           False         False    1-1-1721095361  \n",
       "\n",
       "[5 rows x 22 columns]"
      ]
     },
     "execution_count": 10,
     "metadata": {},
     "output_type": "execute_result"
    }
   ],
   "source": [
    "staten_island.head()"
   ]
  },
  {
   "cell_type": "code",
   "execution_count": 11,
   "metadata": {},
   "outputs": [
    {
     "data": {
      "text/plain": [
       "(84, 22)"
      ]
     },
     "execution_count": 11,
     "metadata": {},
     "output_type": "execute_result"
    }
   ],
   "source": [
    "staten_island.shape"
   ]
  },
  {
   "cell_type": "code",
   "execution_count": 13,
   "metadata": {},
   "outputs": [
    {
     "data": {
      "text/plain": [
       "Date and Time of initial call       78\n",
       "Date and time of Ranger response    82\n",
       "Borough                              1\n",
       "Property                            35\n",
       "Location                            68\n",
       "Species Description                 32\n",
       "Call Source                          5\n",
       "Species Status                       3\n",
       "Animal Condition                     4\n",
       "Duration of Response                13\n",
       "Age                                  3\n",
       "Animal Class                        13\n",
       "311SR Number                        33\n",
       "Final Ranger Action                  6\n",
       "# of Animals                         8\n",
       "PEP Response                         2\n",
       "Animal Monitored                     2\n",
       "Rehabilitator                        0\n",
       "Hours spent monitoring               8\n",
       "Police Response                      2\n",
       "ESU Response                         2\n",
       "ACC Intake Number                   21\n",
       "dtype: int64"
      ]
     },
     "execution_count": 13,
     "metadata": {},
     "output_type": "execute_result"
    }
   ],
   "source": [
    "staten_island.nunique()"
   ]
  },
  {
   "cell_type": "code",
   "execution_count": 14,
   "metadata": {},
   "outputs": [
    {
     "name": "stdout",
     "output_type": "stream",
     "text": [
      "<class 'pandas.core.frame.DataFrame'>\n",
      "Int64Index: 84 entries, 4 to 958\n",
      "Data columns (total 22 columns):\n",
      "Date and Time of initial call       84 non-null object\n",
      "Date and time of Ranger response    84 non-null object\n",
      "Borough                             84 non-null object\n",
      "Property                            84 non-null object\n",
      "Location                            76 non-null object\n",
      "Species Description                 83 non-null object\n",
      "Call Source                         84 non-null object\n",
      "Species Status                      81 non-null object\n",
      "Animal Condition                    64 non-null object\n",
      "Duration of Response                84 non-null float64\n",
      "Age                                 84 non-null object\n",
      "Animal Class                        84 non-null object\n",
      "311SR Number                        33 non-null object\n",
      "Final Ranger Action                 84 non-null object\n",
      "# of Animals                        83 non-null float64\n",
      "PEP Response                        84 non-null object\n",
      "Animal Monitored                    84 non-null object\n",
      "Rehabilitator                       0 non-null object\n",
      "Hours spent monitoring              22 non-null float64\n",
      "Police Response                     84 non-null object\n",
      "ESU Response                        84 non-null bool\n",
      "ACC Intake Number                   21 non-null object\n",
      "dtypes: bool(1), float64(3), object(18)\n",
      "memory usage: 14.5+ KB\n"
     ]
    }
   ],
   "source": [
    "staten_island.info()"
   ]
  },
  {
   "cell_type": "code",
   "execution_count": null,
   "metadata": {},
   "outputs": [],
   "source": []
  }
 ],
 "metadata": {
  "kernelspec": {
   "display_name": "Python 3",
   "language": "python",
   "name": "python3"
  },
  "language_info": {
   "codemirror_mode": {
    "name": "ipython",
    "version": 3
   },
   "file_extension": ".py",
   "mimetype": "text/x-python",
   "name": "python",
   "nbconvert_exporter": "python",
   "pygments_lexer": "ipython3",
   "version": "3.7.3"
  }
 },
 "nbformat": 4,
 "nbformat_minor": 2
}
